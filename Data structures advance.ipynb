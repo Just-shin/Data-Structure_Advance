{
 "cells": [
  {
   "cell_type": "markdown",
   "metadata": {},
   "source": [
    "### 1. ***Write a code to reverse a string.***"
   ]
  },
  {
   "cell_type": "code",
   "execution_count": 1,
   "metadata": {},
   "outputs": [
    {
     "name": "stdout",
     "output_type": "stream",
     "text": [
      "Original String: Hello, PwSkills!\n",
      "Slice Method: !sllikSwP ,olleH\n",
      "Reverse()Method: !sllikSwP ,olleH\n",
      "Loop Method: !sllikSwP ,olleH\n",
      "Recursive Method: !sllikSwP ,olleH\n"
     ]
    }
   ],
   "source": [
    "#using string slicing\n",
    "\n",
    "def reverse_string_slice(s):\n",
    "    return s[::-1]\n",
    "\n",
    "#using reversed() and join()>>\n",
    "\n",
    "def reverse_string_reversed(s):\n",
    "    return ''.join(reversed(s))\n",
    "\n",
    "#using loop>>\n",
    "def reverse_string_loop(s):\n",
    "    reversed_str = \"\"\n",
    "    for char in s:\n",
    "        reversed_str = char + reversed_str\n",
    "    return reversed_str\n",
    "\n",
    "#using recursion >>\n",
    "def reverse_string_recursive(s):\n",
    "    if len(s) <= 1:\n",
    "        return s\n",
    "    return reverse_string_recursive(s[1:])+ s[0]\n",
    "\n",
    "#Usage >>\n",
    "\n",
    "def test_string_reversal():\n",
    "    test_string = \"Hello, PwSkills!\"\n",
    "    \n",
    "    print(\"Original String:\", test_string)\n",
    "    print(\"Slice Method:\", reverse_string_slice(test_string))\n",
    "    print(\"Reverse()Method:\", reverse_string_reversed(test_string))\n",
    "    print(\"Loop Method:\", reverse_string_loop(test_string))\n",
    "    print(\"Recursive Method:\", reverse_string_recursive(test_string))\n",
    "    \n",
    "test_string_reversal()"
   ]
  },
  {
   "cell_type": "markdown",
   "metadata": {},
   "source": [
    "### 2. ***Write a code to count the number of vowels in a string.***"
   ]
  },
  {
   "cell_type": "code",
   "execution_count": 2,
   "metadata": {},
   "outputs": [
    {
     "name": "stdout",
     "output_type": "stream",
     "text": [
      "\n",
      "Testing string: 'Hello World!'\n",
      "Set Method: 3\n",
      "Regex Method:  3\n",
      "Loop Method:  0\n",
      "Comprehension Method:  3\n",
      "Detailed Method: {'total_vowels': 3, 'individual_counts': {'a': 0, 'e': 1, 'i': 0, 'o': 2, 'u': 0, 'A': 0, 'E': 0, 'I': 0, 'O': 0, 'U': 0}}\n",
      "\n",
      "Testing string: 'Pwskills job Assistance'\n",
      "Set Method: 6\n",
      "Regex Method:  6\n",
      "Loop Method:  0\n",
      "Comprehension Method:  6\n",
      "Detailed Method: {'total_vowels': 6, 'individual_counts': {'a': 1, 'e': 1, 'i': 2, 'o': 1, 'u': 0, 'A': 1, 'E': 0, 'I': 0, 'O': 0, 'U': 0}}\n",
      "\n",
      "Testing string: 'aEioU'\n",
      "Set Method: 5\n",
      "Regex Method:  5\n",
      "Loop Method:  0\n",
      "Comprehension Method:  5\n",
      "Detailed Method: {'total_vowels': 5, 'individual_counts': {'a': 1, 'e': 0, 'i': 1, 'o': 1, 'u': 0, 'A': 0, 'E': 1, 'I': 0, 'O': 0, 'U': 1}}\n",
      "\n",
      "Testing string: 'Cauliflower'\n",
      "Set Method: 5\n",
      "Regex Method:  5\n",
      "Loop Method:  0\n",
      "Comprehension Method:  5\n",
      "Detailed Method: {'total_vowels': 5, 'individual_counts': {'a': 1, 'e': 1, 'i': 1, 'o': 1, 'u': 1, 'A': 0, 'E': 0, 'I': 0, 'O': 0, 'U': 0}}\n",
      "\n",
      "Testing string: ''\n",
      "Set Method: 0\n",
      "Regex Method:  0\n",
      "Loop Method:  0\n",
      "Comprehension Method:  0\n",
      "Detailed Method: {'total_vowels': 0, 'individual_counts': {'a': 0, 'e': 0, 'i': 0, 'o': 0, 'u': 0, 'A': 0, 'E': 0, 'I': 0, 'O': 0, 'U': 0}}\n"
     ]
    }
   ],
   "source": [
    "#using set and count method >>\n",
    "def count_vowels_set(s):\n",
    "    vowels = set('aeiouAEIOU')\n",
    "    return sum(1 for char in s if char in vowels)\n",
    "\n",
    "#using regular expressions >>\n",
    "import re\n",
    "def count_vowels_regex(s):\n",
    "    return len(re.findall(r'[aeiouAEIOU]', s))\n",
    "\n",
    "#using loop >>\n",
    "def count_vowels_loop(s):\n",
    "    vowels = 'aeiouAEIOU'\n",
    "    count = 0\n",
    "    for char in s:\n",
    "        if char in vowels:\n",
    "            count == 1\n",
    "    return count\n",
    "\n",
    "#using list comprehension >>\n",
    "def count_vowels_comprehension(s):\n",
    "    vowels = 'aeiouAEIOU'\n",
    "    return len([char for char in s if char in vowels])\n",
    "\n",
    "#case sensitive method with seperate vowel count >>\n",
    "def count_vowels_detailed(s):\n",
    "    vowel_counts = {\n",
    "        'a': s.count('a'),\n",
    "        'e': s.count('e'),\n",
    "        'i': s.count('i'),\n",
    "        'o': s.count('o'),\n",
    "        'u': s.count('u'),\n",
    "        'A': s.count('A'),\n",
    "        'E': s.count('E'),\n",
    "        'I': s.count('I'),\n",
    "        'O': s.count('O'),\n",
    "        'U': s.count('U'),\n",
    "    }\n",
    "    \n",
    "    return {\n",
    "        'total_vowels': sum(vowel_counts.values()),\n",
    "        'individual_counts': vowel_counts\n",
    "    }\n",
    "    \n",
    "#usage >>\n",
    "def test_vowel_counting():\n",
    "    test_strings = [\n",
    "        \"Hello World!\",\n",
    "        \"Pwskills job Assistance\",\n",
    "        \"aEioU\",\n",
    "        \"Cauliflower\",\n",
    "        \"\"\n",
    "    ]\n",
    "    \n",
    "    for test_string in test_strings:\n",
    "        print(f\"\\nTesting string: '{test_string}'\")\n",
    "        print(\"Set Method:\", count_vowels_set(test_string))\n",
    "        print(\"Regex Method: \", count_vowels_regex(test_string))\n",
    "        print(\"Loop Method: \", count_vowels_loop(test_string))\n",
    "        print(\"Comprehension Method: \", count_vowels_comprehension(test_string))\n",
    "        print(\"Detailed Method:\", count_vowels_detailed(test_string))\n",
    "\n",
    "test_vowel_counting()"
   ]
  },
  {
   "cell_type": "markdown",
   "metadata": {},
   "source": [
    "### 3. ***Write a code to check if a given string is a palindrome or not.***\n",
    "*Answer-*"
   ]
  },
  {
   "cell_type": "code",
   "execution_count": 3,
   "metadata": {},
   "outputs": [
    {
     "name": "stdout",
     "output_type": "stream",
     "text": [
      "'A man, a plan, a canal: Panama' is palindrome: True\n",
      "'race a car' is palindrome: False\n",
      "'Hello pwskills' is palindrome: False\n",
      "'Was it a car or a cat I saw?' is palindrome: True\n",
      "'Python' is palindrome: False\n",
      "'Ooo' is palindrome: True\n"
     ]
    }
   ],
   "source": [
    "def is_palindrome(x):\n",
    "    \"\"\"\n",
    "    Check if a given string is a palindrome.\n",
    "    A palindrome reads the same backward as forward, ignoring\n",
    "    case and non-alphanumeric characters.\n",
    "    \n",
    "    Args:\n",
    "    x (str): The input string to check\n",
    "    \n",
    "    Returns:\n",
    "    bool: True if the string is a palindrome, False otherwise    \n",
    "    \"\"\"\n",
    "    #Removing non-alphanumeric char and converting in to lowercase\n",
    "    cleaned_x = ''.join(char.lower() for char in x if char.isalnum())\n",
    "    \n",
    "    #compare the string with its reverse\n",
    "    return cleaned_x == cleaned_x[::-1]\n",
    "\n",
    "#Usage >>\n",
    "def test_palindrome():\n",
    "    test_strings = [\n",
    "        \"A man, a plan, a canal: Panama\",\n",
    "        \"race a car\",\n",
    "        \"Hello pwskills\",\n",
    "        \"Was it a car or a cat I saw?\",\n",
    "        \"Python\",\n",
    "        \"Ooo\"\n",
    "    ]\n",
    "    for string in test_strings:\n",
    "        print(f\"'{string}' is palindrome: {is_palindrome(string)}\")\n",
    "        \n",
    "test_palindrome()"
   ]
  },
  {
   "cell_type": "markdown",
   "metadata": {},
   "source": [
    "### 4. ***Write a code to check if two given strings are anagrams of each other.***"
   ]
  },
  {
   "cell_type": "code",
   "execution_count": 4,
   "metadata": {},
   "outputs": [
    {
     "name": "stdout",
     "output_type": "stream",
     "text": [
      "\n",
      "Testing is_anagram_sorted: \n",
      "listen and silent: True (Expected: True)\n",
      "hello and world: False (Expected: False)\n",
      "Debit Card and Bad Credit: True (Expected: True)\n",
      "python and typhon: True (Expected: True)\n",
      " and : True (Expected: True)\n",
      "aab and aba: True (Expected: True)\n",
      "rat and car: False (Expected: False)\n",
      "\n",
      "Testing is_anagram_count: \n",
      "listen and silent: True (Expected: True)\n",
      "hello and world: False (Expected: False)\n",
      "Debit Card and Bad Credit: True (Expected: True)\n",
      "python and typhon: True (Expected: True)\n",
      " and : True (Expected: True)\n",
      "aab and aba: True (Expected: True)\n",
      "rat and car: False (Expected: False)\n",
      "\n",
      "Testing is_anagram_set: \n",
      "listen and silent: True (Expected: True)\n",
      "hello and world: False (Expected: False)\n",
      "Debit Card and Bad Credit: True (Expected: True)\n",
      "python and typhon: True (Expected: True)\n",
      " and : True (Expected: True)\n",
      "aab and aba: True (Expected: True)\n",
      "rat and car: False (Expected: False)\n",
      "All tests passed!\n"
     ]
    }
   ],
   "source": [
    "def is_anagram_sorted(str1, str2):\n",
    "    \"\"\"\n",
    "    Check if two strings are anagrams using sorting.\n",
    "    Time complexity: 0(n log n)\n",
    "    Space complexity: 0(n)\n",
    "    \"\"\"\n",
    "    #Removing any whitespace and converting to lower case >>\n",
    "    str1 = str1.replace(\" \", \"\").lower()\n",
    "    str2 = str2.replace(\" \", \"\").lower()\n",
    "    \n",
    "    #to check if lengths are diff >>\n",
    "    if len(str1) != len(str2):\n",
    "        return False\n",
    "    \n",
    "    #Sorting both strings and comparing>>\n",
    "    return sorted(str1) == sorted(str2)\n",
    "\n",
    "def is_anagram_count(str1, str2):\n",
    "    \"\"\"\n",
    "    Check if two strings are anagrams using character count.\n",
    "    Time complexity: 0(n)\n",
    "    Space complexity: 0(1) - using fixed-sized dictionary.\n",
    "    \"\"\"\n",
    "    #Removing any whitespace and converting to lower case >>\n",
    "    str1 = str1.replace(\" \", \"\").lower()\n",
    "    str2 = str2.replace(\" \", \"\").lower()\n",
    "    \n",
    "    #to check if lengths are diff >>\n",
    "    if len(str1) != len(str2):\n",
    "        return False\n",
    "    \n",
    "    char_count = {}\n",
    "    \n",
    "    for char in str1:\n",
    "        char_count[char] = char_count.get(char, 0) + 1\n",
    "        \n",
    "    for char in str2:\n",
    "        if char not in char_count:\n",
    "            return False\n",
    "        char_count[char] -= 1\n",
    "        if char_count[char] == 0:\n",
    "            del char_count[char]\n",
    "            \n",
    "    #If all char neutralized its anagram>>\n",
    "    return len(char_count) == 0\n",
    "\n",
    "def is_anagram_set(str1, str2):\n",
    "    \"\"\"\n",
    "    Check if two strings are anagrams using sorting.\n",
    "    Time complexity: 0(n)\n",
    "    Space complexity: 0(n)\n",
    "    \"\"\"\n",
    "    #Removing any whitespace and converting to lower case >>\n",
    "    str1 = str1.replace(\" \", \"\").lower()\n",
    "    str2 = str2.replace(\" \", \"\").lower()\n",
    "    \n",
    "    #to check if lengths are diff >>\n",
    "    if len(str1) != len(str2):\n",
    "        return False\n",
    "    \n",
    "    return set(str1) == set(str2)\n",
    "\n",
    "def anagram_func():\n",
    "    chars = [\n",
    "        (\"listen\", \"silent\", True),\n",
    "        (\"hello\", \"world\", False),\n",
    "        (\"Debit Card\", \"Bad Credit\", True),\n",
    "        (\"python\", \"typhon\", True),\n",
    "        (\"\", \"\", True),\n",
    "        (\"aab\", \"aba\", True),\n",
    "        (\"rat\", \"car\", False)\n",
    "    ]\n",
    "    \n",
    "    functions = [is_anagram_sorted, is_anagram_count, is_anagram_set]\n",
    "    \n",
    "    for func in functions:\n",
    "       print(f\"\\nTesting {func.__name__}: \")\n",
    "       for str1, str2, expected in chars:\n",
    "           result = func(str1, str2)\n",
    "           print(f\"{str1} and {str2}: {result} (Expected: {expected})\")\n",
    "           assert result == expected, f\"Failed for {str1} and {str2}\"\n",
    "    print(\"All tests passed!\")\n",
    "        \n",
    "anagram_func()"
   ]
  },
  {
   "cell_type": "markdown",
   "metadata": {},
   "source": [
    "### 5. ***Write  a code to find all ocurrences of a given substring within another string.***\n",
    "*Answer-*"
   ]
  },
  {
   "cell_type": "code",
   "execution_count": 5,
   "metadata": {},
   "outputs": [
    {
     "name": "stdout",
     "output_type": "stream",
     "text": [
      "[0, 6, 18]\n",
      "[0, 6, 18]\n"
     ]
    }
   ],
   "source": [
    "# Python implementation to find all occurrences of a substring\n",
    "\n",
    "def find_all_occurrences(main_string, substring):\n",
    "    \"\"\"\n",
    "    Find all occurrences of a substring in a main string.\n",
    "    \n",
    "    Args:\n",
    "    main_string (str): The string to search in\n",
    "    substring (str): The substring to find\n",
    "    \n",
    "    Returns:\n",
    "    list: A list of starting indices of all substring occurrences\n",
    "    \"\"\"\n",
    "    occurrences = []\n",
    "    start = 0\n",
    "    \n",
    "    while True:\n",
    "        # Finding the next occurrence of the substring >>\n",
    "        index = main_string.find(substring, start)\n",
    "        \n",
    "        # If no more occurrences are found, break the loop >>\n",
    "        if index == -1:\n",
    "            break\n",
    "        \n",
    "        # Add the found index to the list\n",
    "        occurrences.append(index)\n",
    "        \n",
    "        # Move the start point to continue searching\n",
    "        start = index + 1\n",
    "    \n",
    "    return occurrences\n",
    "\n",
    "# Usage >> \n",
    "main_str = \"hello hello world hello\"\n",
    "sub_str = \"hello\"\n",
    "print(find_all_occurrences(main_str, sub_str))\n",
    "\n",
    "\n",
    "# Alternative method using regex >> \n",
    "import re\n",
    "\n",
    "def find_all_occurrences_regex(main_string, substring):\n",
    "    \"\"\"\n",
    "    Find all occurrences using regular expressions.\n",
    "    \n",
    "    Args:\n",
    "    main_string (str): The string to search in\n",
    "    substring (str): The substring to find\n",
    "    \n",
    "    Returns:\n",
    "    list: A list of starting indices of all substring occurrences\n",
    "    \"\"\"\n",
    "    return [match.start() for match in re.finditer(re.escape(substring), main_string)]\n",
    "\n",
    "\n",
    "print(find_all_occurrences_regex(main_str, sub_str))"
   ]
  },
  {
   "cell_type": "markdown",
   "metadata": {},
   "source": [
    "### 6. ***Write a code to perform basic string compression using the counts of repeated characters.***\n",
    "*Answer-*"
   ]
  },
  {
   "cell_type": "code",
   "execution_count": 6,
   "metadata": {},
   "outputs": [
    {
     "name": "stdout",
     "output_type": "stream",
     "text": [
      "Original: aabcccccaaa\n",
      "Compressed: a2bc5a3\n",
      "\n",
      "Original: abcdef\n",
      "Compressed: abcdef\n",
      "\n",
      "Original: aabbbcccc\n",
      "Compressed: a2b3c4\n",
      "\n",
      "Original: \n",
      "Compressed: \n",
      "\n",
      "Original: a\n",
      "Compressed: a\n",
      "\n",
      "Original: aaaaaaaaaaaa\n",
      "Compressed: a12\n",
      "\n"
     ]
    }
   ],
   "source": [
    "def compress_string(s):\n",
    "    \"\"\"\n",
    "    Compress a string by replacing repeated characters with their count.\n",
    "    \n",
    "    Args:\n",
    "    s (str): Input string to be compressed\n",
    "    \n",
    "    Returns:\n",
    "    str: Compressed string\n",
    "    \n",
    "    Examples:\n",
    "    >>> compress_string('aabcccccaaa')\n",
    "    'a2bc5a3'\n",
    "    >>> compress_string('abcdef')\n",
    "    'abcdef'\n",
    "    >>> compress_string('')\n",
    "    ''\n",
    "    \"\"\"\n",
    "    # Handle empty string\n",
    "    if not s:\n",
    "        return ''\n",
    "    \n",
    "    # Initializing compression result and counting  variables >> \n",
    "    compressed = []\n",
    "    current_char = s[0]\n",
    "    char_count = 1\n",
    "    \n",
    "    # Iterating through the string starting from the second character >>\n",
    "    for char in s[1:]:\n",
    "        if char == current_char:\n",
    "            # If current character continues the sequence, increment count >>\n",
    "            char_count += 1\n",
    "        else:\n",
    "            # Adding previous character and its count to compressed result >>\n",
    "            compressed.append(current_char + (str(char_count) if char_count > 1 else ''))\n",
    "            \n",
    "            # Reseting for new character >>\n",
    "            current_char = char\n",
    "            char_count = 1\n",
    "    \n",
    "    # Adding the last character sequence >>\n",
    "    compressed.append(current_char + (str(char_count) if char_count > 1 else ''))\n",
    "    \n",
    "    # Converting compressed list to string >.\n",
    "    compressed_string = ''.join(compressed)\n",
    "    \n",
    "    # Returning compressed string only if it's shorter than original >>\n",
    "    return compressed_string if len(compressed_string) < len(s) else s\n",
    "\n",
    "\n",
    "if __name__ == '__main__':\n",
    "    \n",
    "    test_strings = [\n",
    "        'aabcccccaaa',\n",
    "        'abcdef',\n",
    "        'aabbbcccc',\n",
    "        '',\n",
    "        'a',\n",
    "        'aaaaaaaaaaaa'\n",
    "    ]\n",
    "    \n",
    "    for test_str in test_strings:\n",
    "        print(f\"Original: {test_str}\")\n",
    "        print(f\"Compressed: {compress_string(test_str)}\")\n",
    "        print()"
   ]
  },
  {
   "cell_type": "markdown",
   "metadata": {},
   "source": [
    "### 7. ***Write a code to determine if a string has all unique characters.***\n",
    "*Answer-*"
   ]
  },
  {
   "cell_type": "code",
   "execution_count": 7,
   "metadata": {},
   "outputs": [
    {
     "name": "stdout",
     "output_type": "stream",
     "text": [
      "Unique Character Checker - Test Results:\n",
      "\n",
      "Testing has_unique_characters:\n",
      "'abcdef': True\n",
      "'hello': False\n",
      "'': True\n",
      "'Pwskills': False\n",
      "'123456': True\n",
      "'11234': False\n",
      "'!@#$%^&*()': True\n",
      "\n",
      "Testing has_unique_characters_alt1:\n",
      "'abcdef': True\n",
      "'hello': False\n",
      "'': True\n",
      "'Pwskills': False\n",
      "'123456': True\n",
      "'11234': False\n",
      "'!@#$%^&*()': True\n",
      "\n",
      "Testing has_unique_characters_alt2:\n",
      "'abcdef': True\n",
      "'hello': False\n",
      "'': True\n",
      "'Pwskills': False\n",
      "'123456': True\n",
      "'11234': False\n",
      "'!@#$%^&*()': True\n",
      "\n",
      "Testing has_unique_characters_bitwise:\n",
      "'abcdef': True\n",
      "'hello': False\n",
      "'': True\n",
      "'Pwskills': False\n",
      "'123456': True\n",
      "'11234': False\n",
      "'!@#$%^&*()': True\n"
     ]
    }
   ],
   "source": [
    "def has_unique_characters(s):\n",
    "    \"\"\"\n",
    "    Determine if a string has all unique characters.\n",
    "    \n",
    "    This function checks whether the input string contains only unique characters.\n",
    "    It provides multiple implementation approaches to demonstrate different techniques.\n",
    "    \n",
    "    Args:\n",
    "    s (str): Input string to check for unique characters\n",
    "    \n",
    "    Returns:\n",
    "    bool: True if all characters are unique, False otherwise\n",
    "    \n",
    "    Time Complexity: O(n)\n",
    "    Space Complexity: O(min(n, k)), where k is the size of the character set\n",
    "    \n",
    "    Examples:\n",
    "    >>> has_unique_characters('abcdef')\n",
    "    True\n",
    "    >>> has_unique_characters('abcdefga')\n",
    "    False\n",
    "    >>> has_unique_characters('')\n",
    "    True\n",
    "    \"\"\"\n",
    "    # Method 1: Using a set >>\n",
    "    return len(set(s)) == len(s)\n",
    "\n",
    "def has_unique_characters_alt1(s):\n",
    "    \"\"\"\n",
    "    Alternative method 1: Using a hash set for tracking characters.\n",
    "    \n",
    "    Args:\n",
    "    s (str): Input string to check for unique characters\n",
    "    \n",
    "    Returns:\n",
    "    bool: True if all characters are unique, False otherwise\n",
    "    \"\"\"\n",
    "    # set to track seen characters >>\n",
    "    char_set = set()\n",
    "    for char in s:\n",
    "        if char in char_set:\n",
    "            return False\n",
    "        char_set.add(char)\n",
    "    return True\n",
    "\n",
    "#Method 2 : sorting and comparison >>\n",
    "def has_unique_characters_alt2(s):\n",
    "    \"\"\"\n",
    "    Alternative method 2: Using sorting and comparison.\n",
    "    \n",
    "    Args:\n",
    "    s (str): Input string to check for unique characters\n",
    "    \n",
    "    Returns:\n",
    "    bool: True if all characters are unique, False otherwise\n",
    "    \"\"\"\n",
    "    # Sorting the string and checking for adjacent duplicate characters >.\n",
    "    sorted_s = sorted(s)\n",
    "    for i in range(1, len(sorted_s)):\n",
    "        if sorted_s[i] == sorted_s[i-1]:\n",
    "            return False\n",
    "    return True\n",
    "\n",
    "#Method 3 : bitwise >>\n",
    "def has_unique_characters_bitwise(s):\n",
    "    \"\"\"\n",
    "    Bitwise method: Efficient for ASCII characters.\n",
    "    \n",
    "    Args:\n",
    "    s (str): Input string to check for unique characters\n",
    "    \n",
    "    Returns:\n",
    "    bool: True if all characters are unique, False otherwise\n",
    "    \n",
    "    Note: This method assumes ASCII character set (256 characters)\n",
    "    \"\"\"\n",
    "    # a bit vector to track character presence >>\n",
    "    checker = 0\n",
    "    for char in s:\n",
    "        # Converting character to its ASCII value >.\n",
    "        val = ord(char)\n",
    "        \n",
    "        # Checking if the bit is already set >>\n",
    "        if (checker & (1 << val)) > 0:\n",
    "            return False\n",
    "        \n",
    "        # Setting the bit for this character >>\n",
    "        checker |= (1 << val)\n",
    "    \n",
    "    return True\n",
    "\n",
    "#Usage >>\n",
    "if __name__ == '__main__':\n",
    "    \n",
    "    test_cases = [\n",
    "        'abcdef',        # Unique characters\n",
    "        'hello',         # Repeated characters\n",
    "        '',              # Empty string\n",
    "        'Pwskills',      # Mixed case\n",
    "        '123456',        # Unique numbers\n",
    "        '11234',         # Repeated digit\n",
    "        '!@#$%^&*()',    # Special characters\n",
    "    ]\n",
    "    \n",
    "    #implementations\n",
    "    methods = [\n",
    "        has_unique_characters, \n",
    "        has_unique_characters_alt1, \n",
    "        has_unique_characters_alt2,\n",
    "        has_unique_characters_bitwise\n",
    "    ]\n",
    "    \n",
    "    print(\"Unique Character Checker - Test Results:\")\n",
    "    for method in methods:\n",
    "        print(f\"\\nTesting {method.__name__}:\")\n",
    "        for test_str in test_cases:\n",
    "            result = method(test_str)\n",
    "            print(f\"'{test_str}': {result}\")"
   ]
  },
  {
   "cell_type": "markdown",
   "metadata": {},
   "source": [
    "### 8. ***Write a code to convert a given string to uppercase or lowwrcase.***\n",
    "*Answer-*"
   ]
  },
  {
   "cell_type": "code",
   "execution_count": 8,
   "metadata": {},
   "outputs": [
    {
     "name": "stdout",
     "output_type": "stream",
     "text": [
      "String Case Conversion Test Results:\n",
      "\n",
      "Using built-in method (convert_case):\n",
      "\n",
      "Upper Case Conversion:\n",
      "'Hello World!' -> 'HELLO WORLD!'\n",
      "'PYTHON Programming' -> 'PYTHON PROGRAMMING'\n",
      "'openAI chatbot' -> 'OPENAI CHATBOT'\n",
      "'123 Test Case' -> '123 TEST CASE'\n",
      "'' -> ''\n",
      "\n",
      "Lower Case Conversion:\n",
      "'Hello World!' -> 'hello world!'\n",
      "'PYTHON Programming' -> 'python programming'\n",
      "'openAI chatbot' -> 'openai chatbot'\n",
      "'123 Test Case' -> '123 test case'\n",
      "'' -> ''\n",
      "\n",
      "Using manual method (convert_case_manual):\n",
      "\n",
      "Upper Case Conversion:\n",
      "'Hello World!' -> 'HELLO WORLD!'\n",
      "'PYTHON Programming' -> 'PYTHON PROGRAMMING'\n",
      "'openAI chatbot' -> 'OPENAI CHATBOT'\n",
      "'123 Test Case' -> '123 TEST CASE'\n",
      "'' -> ''\n",
      "\n",
      "Lower Case Conversion:\n",
      "'Hello World!' -> 'hello world!'\n",
      "'PYTHON Programming' -> 'python programming'\n",
      "'openAI chatbot' -> 'openai chatbot'\n",
      "'123 Test Case' -> '123 test case'\n",
      "'' -> ''\n"
     ]
    }
   ],
   "source": [
    "def convert_case(text, to_case='upper'):\n",
    "    \"\"\"\n",
    "    Convert a given string to uppercase or lowercase with multiple implementation methods.\n",
    "    \n",
    "    Args:\n",
    "    text (str): Input string to be converted\n",
    "    to_case (str, optional): Desired case conversion. \n",
    "                              Accepts 'upper', 'lower'. \n",
    "                              Defaults to 'upper'.\n",
    "    \n",
    "    Returns:\n",
    "    str: Converted string\n",
    "    \n",
    "    Raises:\n",
    "    ValueError: If an invalid case conversion is specified\n",
    "    \n",
    "    Examples:\n",
    "    >>> convert_case('Hello World')\n",
    "    'HELLO WORLD'\n",
    "    >>> convert_case('Hello World', 'lower')\n",
    "    'hello world'\n",
    "    \"\"\"\n",
    "    # Validate input case conversion type\n",
    "    valid_cases = ['upper', 'lower']\n",
    "    \n",
    "    # Convert case based on input\n",
    "    if to_case.lower() == 'upper':\n",
    "        return text.upper()\n",
    "    elif to_case.lower() == 'lower':\n",
    "        return text.lower()\n",
    "\n",
    "def convert_case_manual(text, to_case='upper'):\n",
    "    \"\"\"\n",
    "    Manual implementation of case conversion without built-in methods.\n",
    "    \n",
    "    Args:\n",
    "    text (str): Input string to be converted\n",
    "    to_case (str, optional): Desired case conversion. \n",
    "                              Accepts 'upper', 'lower'. \n",
    "                              Defaults to 'upper'.\n",
    "    \n",
    "    Returns:\n",
    "    str: Converted string\n",
    "    \n",
    "    Raises:\n",
    "    ValueError: If an invalid case conversion is specified\n",
    "    \"\"\"\n",
    "    # Validate input case conversion type\n",
    "    valid_cases = ['upper', 'lower']\n",
    "    \n",
    "    # Manual conversion logic >>\n",
    "    converted_chars = []\n",
    "    for i, char in enumerate(text):\n",
    "        if to_case.lower() == 'upper':\n",
    "            # Convert to uppercase\n",
    "            converted_chars.append(chr(ord(char) - 32) if 'a' <= char <= 'z' else char)\n",
    "        elif to_case.lower() == 'lower':\n",
    "            # Convert to lowercase\n",
    "            converted_chars.append(chr(ord(char) + 32) if 'A' <= char <= 'Z' else char)\n",
    "        else:\n",
    "            # Uppercase first letter of each word\n",
    "            if i == 0 or text[i-1].isspace():\n",
    "                converted_chars.append(chr(ord(char) - 32) if 'a' <= char <= 'z' else char)\n",
    "            else:\n",
    "                converted_chars.append(chr(ord(char) + 32) if 'A' <= char <= 'Z' else char)\n",
    "    \n",
    "    return ''.join(converted_chars)\n",
    "\n",
    "\n",
    "if __name__ == '__main__':\n",
    "    \n",
    "    test_cases = [\n",
    "        'Hello World!',\n",
    "        'PYTHON Programming',\n",
    "        'openAI chatbot',\n",
    "        '123 Test Case',\n",
    "        ''  # Empty string\n",
    "    ]\n",
    "    \n",
    "    # Test conversion methods\n",
    "    conversion_types = ['upper', 'lower']\n",
    "    \n",
    "    print(\"String Case Conversion Test Results:\")\n",
    "    \n",
    "    print(\"\\nUsing built-in method (convert_case):\")\n",
    "    for case_type in conversion_types:\n",
    "        print(f\"\\n{case_type.capitalize()} Case Conversion:\")\n",
    "        for test_str in test_cases:\n",
    "            try:\n",
    "                result = convert_case(test_str, case_type)\n",
    "                print(f\"'{test_str}' -> '{result}'\")\n",
    "            except ValueError as e:\n",
    "                print(f\"Error: {e}\")\n",
    "    \n",
    "    print(\"\\nUsing manual method (convert_case_manual):\")\n",
    "    for case_type in conversion_types:\n",
    "        print(f\"\\n{case_type.capitalize()} Case Conversion:\")\n",
    "        for test_str in test_cases:\n",
    "            try:\n",
    "                result = convert_case_manual(test_str, case_type)\n",
    "                print(f\"'{test_str}' -> '{result}'\")\n",
    "            except ValueError as e:\n",
    "                print(f\"Error: {e}\")"
   ]
  },
  {
   "cell_type": "code",
   "execution_count": 10,
   "metadata": {},
   "outputs": [
    {
     "name": "stdout",
     "output_type": "stream",
     "text": [
      "Number of words in the text: 6\n"
     ]
    }
   ],
   "source": [
    "#9. Write a code to count the number of words in a string.\n",
    "\n",
    "def count_words(str):\n",
    "    words = str.split()\n",
    "    return len(words)\n",
    "\n",
    "text = \"Hello, PwSkills! Its a great course\"\n",
    "word_count = count_words(text)\n",
    "print(f\"Number of words in the text: {word_count}\")"
   ]
  },
  {
   "cell_type": "code",
   "execution_count": null,
   "metadata": {},
   "outputs": [
    {
     "name": "stdout",
     "output_type": "stream",
     "text": [
      "Concatenated string:Hello, PwSkills!\n"
     ]
    }
   ],
   "source": [
    "#10.  Write a code to concatenate two strings without using the + operator.\n",
    "\n",
    "def concatenate_str(str1, str2):\n",
    "    return \"{}{}\".format(str1, str2) #here I am using format method to concatenate.\n",
    "\n",
    "str1 = \"Hello, \"\n",
    "str2 = \"PwSkills!\"\n",
    "result = concatenate_str(str1, str2)\n",
    "print(f\"Concatenated string:{result}\")"
   ]
  },
  {
   "cell_type": "code",
   "execution_count": null,
   "metadata": {},
   "outputs": [],
   "source": [
    "#11. Write a code to remove all occurrences of a specific element from a list.\n",
    "\n",
    "def remove_all_occurrences(list, element):\n",
    "    return [item for item in list if item != element]\n",
    "\n",
    "numbers = [1, 2, 3, 4, 2, 5, 2, 6, 2]\n",
    "element_to_remove = 2\n"
   ]
  },
  {
   "cell_type": "code",
   "execution_count": 12,
   "metadata": {},
   "outputs": [
    {
     "name": "stdout",
     "output_type": "stream",
     "text": [
      "Second largest number: 99\n"
     ]
    }
   ],
   "source": [
    "#12. Implement a code to find the second largest number in a given list of integers.\n",
    "\n",
    "def second_largest(numbers):\n",
    "    unique_numbers = list(set(numbers)) #removing duplicates\n",
    "    if len(unique_numbers) < 2:\n",
    "        return None #return None if there is no second largest element\n",
    "    unique_numbers.sort(reverse=True) #sorting in descending order\n",
    "    return unique_numbers[1] #returning the second largest number\n",
    "\n",
    "nums = [10, 20, 4, 45, 99, 99, 100, 20]\n",
    "result = second_largest(nums)\n",
    "print(f\"Second largest number: {result}\")"
   ]
  },
  {
   "cell_type": "code",
   "execution_count": 14,
   "metadata": {},
   "outputs": [
    {
     "name": "stdout",
     "output_type": "stream",
     "text": [
      "Element counts: {1: 1, 2: 4, 3: 1, 4: 3, 5: 1, 6: 1}\n"
     ]
    }
   ],
   "source": [
    "#13. Create a code to count the occurrences of each element in a list and return a dictionary with elements as keys and their counts as values.\n",
    "\n",
    "def count_occurrences(list):\n",
    "    occurrences = {}\n",
    "    for item in list:\n",
    "        occurrences[item] = occurrences.get(item, 0) + 1\n",
    "    return occurrences\n",
    "\n",
    "numbers = [1, 2, 3, 4, 2, 5, 2, 6, 2, 4, 4]\n",
    "result = count_occurrences(numbers)\n",
    "print(f\"Element counts:\", result)"
   ]
  },
  {
   "cell_type": "code",
   "execution_count": 15,
   "metadata": {},
   "outputs": [
    {
     "name": "stdout",
     "output_type": "stream",
     "text": [
      "Reversed list: [5, 4, 3, 2, 1]\n"
     ]
    }
   ],
   "source": [
    "#14. Write a code to reverse a list in-place without using any built-in reverse functions.\n",
    "\n",
    "def reverse_list_inplace(list):\n",
    "    left, right = 0, len(list) - 1\n",
    "    while left < right:\n",
    "        list[left], list[right] = list[right], list[left] #swapping elements\n",
    "        left += 1\n",
    "        right -= 1\n",
    "        \n",
    "numbers = [1, 2, 3, 4, 5]\n",
    "reverse_list_inplace(numbers)\n",
    "print(\"Reversed list:\", numbers)"
   ]
  },
  {
   "cell_type": "code",
   "execution_count": 17,
   "metadata": {},
   "outputs": [
    {
     "name": "stdout",
     "output_type": "stream",
     "text": [
      "List after removing duplicates: [1, 2, 3, 4, 5, 6]\n"
     ]
    }
   ],
   "source": [
    "#15. Implement a code to find and remove duplicates from a list while preserving the original order of elements.\n",
    "\n",
    "def remove_duplicates(list):\n",
    "    seen = set()\n",
    "    unique_list = []\n",
    "    for item in list:\n",
    "        if item not in seen:\n",
    "            unique_list.append(item)\n",
    "            seen.add(item)\n",
    "    return unique_list\n",
    "\n",
    "numbers = [1, 2, 2, 3, 4, 3, 5, 4, 6]\n",
    "result = remove_duplicates(numbers)\n",
    "print(\"List after removing duplicates:\", result)"
   ]
  },
  {
   "cell_type": "code",
   "execution_count": 18,
   "metadata": {},
   "outputs": [
    {
     "name": "stdout",
     "output_type": "stream",
     "text": [
      "List 1 is Ascending\n",
      "List 2 is Descending\n",
      "List 3 is Unsorted\n"
     ]
    }
   ],
   "source": [
    "#16. Create a code to check if a given list is sorted (either in ascending or descending order) or not.\n",
    "\n",
    "def is_sorted(list):\n",
    "    if list == sorted(list): #check if the list is sorted in ascending order\n",
    "        return \"Ascending\"\n",
    "    elif list == sorted(list, reverse = True): #check if the list is sorted in descending order\n",
    "        return \"Descending\"\n",
    "    else:\n",
    "        return \"Unsorted\"\n",
    "    \n",
    "nums1 = [1, 2, 3, 4 , 5]\n",
    "nums2 = [5, 4, 3, 2, 1]\n",
    "nums3 = [2, 5, 3, 4, 1]\n",
    "\n",
    "print(f\"List 1 is {is_sorted(nums1)}\")\n",
    "print(f\"List 2 is {is_sorted(nums2)}\")\n",
    "print(f\"List 3 is {is_sorted(nums3)}\")"
   ]
  },
  {
   "cell_type": "code",
   "execution_count": 19,
   "metadata": {},
   "outputs": [
    {
     "name": "stdout",
     "output_type": "stream",
     "text": [
      "Merged Sorted List: [1, 3, 4, 5, 6, 7, 8]\n"
     ]
    }
   ],
   "source": [
    "#17.  Write a code to merge two sorted lists into a single sorted list.\n",
    "\n",
    "def merge_sorted_lists(list1, list2):\n",
    "    merged_list = []\n",
    "    i, j = 0, 1\n",
    "    \n",
    "    while i < len(list1) and j < len(list2):\n",
    "        if list1[i] < list2[j]:\n",
    "            merged_list.append(list1[i])\n",
    "            i += 1\n",
    "        else:\n",
    "            merged_list.append(list2[j])\n",
    "            j += 1\n",
    "\n",
    "    # Add remaining elements from either list\n",
    "    merged_list.extend(list1[i:])\n",
    "    merged_list.extend(list2[j:])\n",
    "    \n",
    "    return merged_list\n",
    "\n",
    "# Example usage\n",
    "list1 = [1, 3, 5, 7]\n",
    "list2 = [2, 4, 6, 8]\n",
    "result = merge_sorted_lists(list1, list2)\n",
    "print(\"Merged Sorted List:\", result)\n"
   ]
  },
  {
   "cell_type": "code",
   "execution_count": 20,
   "metadata": {},
   "outputs": [
    {
     "name": "stdout",
     "output_type": "stream",
     "text": [
      "Intersection: [3, 4, 5]\n"
     ]
    }
   ],
   "source": [
    "#18.  Implement a code to find the intersection of two given lists.\n",
    "\n",
    "def find_intersection(list1, list2):\n",
    "    return list(set(list1) & set(list2))  # Using set intersection\n",
    "\n",
    "# Example usage\n",
    "list1 = [1, 2, 3, 4, 5]\n",
    "list2 = [3, 4, 5, 6, 7]\n",
    "result = find_intersection(list1, list2)\n",
    "print(\"Intersection:\", result)\n"
   ]
  },
  {
   "cell_type": "code",
   "execution_count": 21,
   "metadata": {},
   "outputs": [
    {
     "name": "stdout",
     "output_type": "stream",
     "text": [
      "Ordered Intersection: [3, 4, 5]\n"
     ]
    }
   ],
   "source": [
    "def find_intersection_ordered(list1, list2):\n",
    "    set2 = set(list2)\n",
    "    return [item for item in list1 if item in set2]\n",
    "\n",
    "# Example usage\n",
    "result_ordered = find_intersection_ordered(list1, list2)\n",
    "print(\"Ordered Intersection:\", result_ordered)\n"
   ]
  },
  {
   "cell_type": "code",
   "execution_count": 22,
   "metadata": {},
   "outputs": [
    {
     "name": "stdout",
     "output_type": "stream",
     "text": [
      "Union: [1, 2, 3, 4, 5, 6, 7]\n"
     ]
    }
   ],
   "source": [
    "#19. Create a code to find the union of two lists without duplicates.\n",
    "\n",
    "def find_union(list1, list2):\n",
    "    return list(set(list1) | set(list2))  # Using set union\n",
    "\n",
    "# Example usage\n",
    "list1 = [1, 2, 3, 4, 5]\n",
    "list2 = [3, 4, 5, 6, 7]\n",
    "result = find_union(list1, list2)\n",
    "print(\"Union:\", result)\n"
   ]
  },
  {
   "cell_type": "code",
   "execution_count": 23,
   "metadata": {},
   "outputs": [
    {
     "name": "stdout",
     "output_type": "stream",
     "text": [
      "Ordered Union: [1, 2, 3, 4, 5, 6, 7]\n"
     ]
    }
   ],
   "source": [
    "def find_union_ordered(list1, list2):\n",
    "    seen = set()\n",
    "    union_list = []\n",
    "    for item in list1 + list2:  # Concatenate lists\n",
    "        if item not in seen:\n",
    "            union_list.append(item)\n",
    "            seen.add(item)\n",
    "    return union_list\n",
    "\n",
    "# Example usage\n",
    "result_ordered = find_union_ordered(list1, list2)\n",
    "print(\"Ordered Union:\", result_ordered)\n"
   ]
  },
  {
   "cell_type": "code",
   "execution_count": 24,
   "metadata": {},
   "outputs": [
    {
     "name": "stdout",
     "output_type": "stream",
     "text": [
      "Shuffled list: [8, 5, 7, 6, 4, 1, 2, 3]\n"
     ]
    }
   ],
   "source": [
    "#20. Write a code to shuffle a given list randomly without using any built-in shuffle functions.\n",
    "\n",
    "import random\n",
    "\n",
    "def shuffle_list(lst):\n",
    "    n = len(lst)\n",
    "    for i in range(n - 1, 0, -1):\n",
    "        j = random.randint(0, i)  # Generate a random index\n",
    "        lst[i], lst[j] = lst[j], lst[i]  # Swap elements\n",
    "\n",
    "# Example usage\n",
    "numbers = [1, 2, 3, 4, 5, 6, 7, 8]\n",
    "shuffle_list(numbers)\n",
    "print(\"Shuffled list:\", numbers)\n"
   ]
  },
  {
   "cell_type": "code",
   "execution_count": 25,
   "metadata": {},
   "outputs": [
    {
     "name": "stdout",
     "output_type": "stream",
     "text": [
      "Common elements tuple: (3, 4, 5)\n"
     ]
    }
   ],
   "source": [
    "#21. Write a code that takes two tuples as input and returns a new tuple containing elements that are common to both input tuples.\n",
    "\n",
    "def common_elements(tuple1, tuple2):\n",
    "    return tuple(set(tuple1) & set(tuple2))  # Using set intersection\n",
    "\n",
    "# Example usage\n",
    "tuple1 = (1, 2, 3, 4, 5)\n",
    "tuple2 = (3, 4, 5, 6, 7)\n",
    "result = common_elements(tuple1, tuple2)\n",
    "print(\"Common elements tuple:\", result)\n"
   ]
  },
  {
   "cell_type": "code",
   "execution_count": 26,
   "metadata": {},
   "outputs": [
    {
     "name": "stdout",
     "output_type": "stream",
     "text": [
      "Intersection of the two sets: {5}\n"
     ]
    }
   ],
   "source": [
    "#22. Create a code that prompts the user to enter two sets of integers separated by commas. Then, print the intersection of these two sets.\n",
    "\n",
    "def get_set_from_input(prompt):\n",
    "    return set(map(int, input(prompt).split(',')))  # Convert input to a set of integers\n",
    "\n",
    "# Get user input\n",
    "set1 = get_set_from_input(\"Enter the first set of integers (comma-separated): \")\n",
    "set2 = get_set_from_input(\"Enter the second set of integers (comma-separated): \")\n",
    "\n",
    "# Find and print the intersection\n",
    "intersection = set1 & set2  # Using set intersection\n",
    "print(\"Intersection of the two sets:\", intersection)\n"
   ]
  },
  {
   "cell_type": "code",
   "execution_count": 27,
   "metadata": {},
   "outputs": [
    {
     "name": "stdout",
     "output_type": "stream",
     "text": [
      "Concatenated Tuple: (1, 2, 3, 4, 5, 6)\n"
     ]
    }
   ],
   "source": [
    "#23. Write a code to concatenate two tuples. The function should take two tuples as input and return a new tuple containing elements from both input tuples.\n",
    "\n",
    "def concatenate_tuples(tuple1, tuple2):\n",
    "    return tuple1 + tuple2  # Using tuple concatenation\n",
    "\n",
    "# Example usage\n",
    "tuple1 = (1, 2, 3)\n",
    "tuple2 = (4, 5, 6)\n",
    "result = concatenate_tuples(tuple1, tuple2)\n",
    "print(\"Concatenated Tuple:\", result)\n"
   ]
  },
  {
   "cell_type": "code",
   "execution_count": null,
   "metadata": {},
   "outputs": [
    {
     "name": "stdout",
     "output_type": "stream",
     "text": [
      "Elements present in the first set but not in the second set: {' pwskills'}\n"
     ]
    }
   ],
   "source": [
    "#24. Develop a code that prompts the user to input two sets of strings. Then, print the elements that are present in the first set but not in the second set.\n",
    "\n",
    "def difference_of_sets():\n",
    "    set1 = set(input(\"Enter the first set of strings (comma-separated): \").split(\",\")) #my input is-Hello, pwskills in set1\n",
    "    set2 = set(input(\"Enter the second set of strings (comma-separated): \").split(\",\"))#my input is-Hello, in set2\n",
    "    \n",
    "    difference = set1 - set2  # Elements in set1 but not in set2\n",
    "    print(\"Elements present in the first set but not in the second set:\", difference)\n",
    "\n",
    "# Run the function\n",
    "difference_of_sets()\n"
   ]
  },
  {
   "cell_type": "code",
   "execution_count": 29,
   "metadata": {},
   "outputs": [
    {
     "name": "stdout",
     "output_type": "stream",
     "text": [
      "Extracted Tuple: (30, 40, 50)\n"
     ]
    }
   ],
   "source": [
    "#25. Create a code that takes a tuple and two integers as input. The function should return a new tuple containing elements from the original tuple within the specified range of indices.\n",
    "\n",
    "def extract_subtuple(tpl, start, end):\n",
    "    return tpl[start:end]  # Extracting the range using slicing\n",
    "\n",
    "# Example usage\n",
    "tuple_input = (10, 20, 30, 40, 50, 60, 70)\n",
    "start_index = 2\n",
    "end_index = 5\n",
    "result = extract_subtuple(tuple_input, start_index, end_index)\n",
    "print(\"Extracted Tuple:\", result)\n"
   ]
  },
  {
   "cell_type": "code",
   "execution_count": 30,
   "metadata": {},
   "outputs": [
    {
     "name": "stdout",
     "output_type": "stream",
     "text": [
      "Union of the two sets: {' kiwi', ' orange', 'apple', 'banana'}\n"
     ]
    }
   ],
   "source": [
    "#26. Write a code that prompts the user to input two sets of characters. Then, print the union of these two sets.\n",
    "\n",
    "def union_of_sets():\n",
    "    set1 = set(input(\"Enter the first set of characters (comma-separated): \").split(\",\"))\n",
    "    set2 = set(input(\"Enter the second set of characters (comma-separated): \").split(\",\"))\n",
    "\n",
    "    union_set = set1 | set2  # Using union operator\n",
    "    print(\"Union of the two sets:\", union_set)\n",
    "\n",
    "# Run the function\n",
    "union_of_sets()\n"
   ]
  },
  {
   "cell_type": "code",
   "execution_count": 31,
   "metadata": {},
   "outputs": [
    {
     "name": "stdout",
     "output_type": "stream",
     "text": [
      "Minimum: 1 Maximum: 9\n"
     ]
    }
   ],
   "source": [
    "#27. Develop a code that takes a tuple of integers as input. The function should return the maximum and minimum values from the tuple using tuple unpacking.\n",
    "\n",
    "def min_max_tuple(tpl):\n",
    "    return min(tpl), max(tpl)  # Tuple unpacking\n",
    "\n",
    "# Example usage\n",
    "tuple_input = (3, 7, 1, 9, 5)\n",
    "min_val, max_val = min_max_tuple(tuple_input)\n",
    "print(\"Minimum:\", min_val, \"Maximum:\", max_val)\n"
   ]
  },
  {
   "cell_type": "code",
   "execution_count": 32,
   "metadata": {},
   "outputs": [
    {
     "name": "stdout",
     "output_type": "stream",
     "text": [
      "Union: {1, 2, 3, 4, 5, 6, 7}\n",
      "Intersection: {3, 4, 5}\n",
      "Difference (Set1 - Set2): {1, 2}\n"
     ]
    }
   ],
   "source": [
    "#28. Create a code that defines two sets of integers. Then, print the union, intersection, and difference of these two sets.\n",
    "\n",
    "def set_operations():\n",
    "    set1 = {1, 2, 3, 4, 5}\n",
    "    set2 = {3, 4, 5, 6, 7}\n",
    "\n",
    "    print(\"Union:\", set1 | set2)\n",
    "    print(\"Intersection:\", set1 & set2)\n",
    "    print(\"Difference (Set1 - Set2):\", set1 - set2)\n",
    "\n",
    "# Run the function\n",
    "set_operations()\n"
   ]
  },
  {
   "cell_type": "code",
   "execution_count": 33,
   "metadata": {},
   "outputs": [
    {
     "name": "stdout",
     "output_type": "stream",
     "text": [
      "Count of 2 : 3\n"
     ]
    }
   ],
   "source": [
    "#29. Write a code that takes a tuple and an element as input. The function should return the count of occurrences of the given element in the tuple.\n",
    "\n",
    "def count_occurrences(tpl, element):\n",
    "    return tpl.count(element)\n",
    "\n",
    "# Example usage\n",
    "tuple_input = (1, 2, 3, 4, 2, 2, 5)\n",
    "element = 2\n",
    "print(\"Count of\", element, \":\", count_occurrences(tuple_input, element))\n"
   ]
  },
  {
   "cell_type": "code",
   "execution_count": null,
   "metadata": {},
   "outputs": [
    {
     "name": "stdout",
     "output_type": "stream",
     "text": [
      "Symmetric Difference: {' banana', ' orange'}\n"
     ]
    }
   ],
   "source": [
    "#30. Develop a code that prompts the user to input two sets of strings. Then, print the symmetric difference of these two sets.\n",
    "\n",
    "def symmetric_difference_sets():\n",
    "    set1 = set(input(\"Enter the first set of strings (comma-separated): \").split(\",\")) #apple, banana\n",
    "    set2 = set(input(\"Enter the second set of strings (comma-separated): \").split(\",\")) # apple, orange\n",
    "\n",
    "    sym_diff = set1 ^ set2  # Symmetric difference operator\n",
    "    print(\"Symmetric Difference:\", sym_diff)\n",
    "\n",
    "# Run the function\n",
    "symmetric_difference_sets()\n"
   ]
  },
  {
   "cell_type": "code",
   "execution_count": 35,
   "metadata": {},
   "outputs": [
    {
     "name": "stdout",
     "output_type": "stream",
     "text": [
      "Word Frequencies: {'apple': 3, 'banana': 2, 'orange': 1}\n"
     ]
    }
   ],
   "source": [
    "# 31. Write a code that takes a list of words as input and returns a dictionary where the keys are unique words and the values are the frequencies of those words in the input list.\n",
    "\n",
    "def word_frequencies(words):\n",
    "    freq_dict = {}\n",
    "    for word in words:\n",
    "        freq_dict[word] = freq_dict.get(word, 0) + 1\n",
    "    return freq_dict\n",
    "\n",
    "# Example usage\n",
    "words_list = [\"apple\", \"banana\", \"apple\", \"orange\", \"banana\", \"apple\"]\n",
    "print(\"Word Frequencies:\", word_frequencies(words_list))\n",
    "\n"
   ]
  },
  {
   "cell_type": "code",
   "execution_count": 36,
   "metadata": {},
   "outputs": [
    {
     "name": "stdout",
     "output_type": "stream",
     "text": [
      "Merged Dictionary: {'a': 1, 'b': 5, 'c': 7, 'd': 5}\n"
     ]
    }
   ],
   "source": [
    "#32. Write a code that takes two dictionaries as input and merges them into a single dictionary. If there are common keys, the values should be added together.\n",
    "\n",
    "def merge_dicts(dict1, dict2):\n",
    "    merged = dict1.copy()\n",
    "    for key, value in dict2.items():\n",
    "        merged[key] = merged.get(key, 0) + value\n",
    "    return merged\n",
    "\n",
    "# Example usage\n",
    "dict1 = {\"a\": 1, \"b\": 2, \"c\": 3}\n",
    "dict2 = {\"b\": 3, \"c\": 4, \"d\": 5}\n",
    "print(\"Merged Dictionary:\", merge_dicts(dict1, dict2))\n"
   ]
  },
  {
   "cell_type": "code",
   "execution_count": 37,
   "metadata": {},
   "outputs": [
    {
     "name": "stdout",
     "output_type": "stream",
     "text": [
      "Value: 42\n"
     ]
    }
   ],
   "source": [
    "#33. Write a code to access a value in a nested dictionary. The function should take the dictionary and a list of keys as input, and return the corresponding value. If any of the keys do not exist in the dictionary, the function should return None. \n",
    "\n",
    "def get_nested_value(dictionary, keys):\n",
    "    try:\n",
    "        for key in keys:\n",
    "            dictionary = dictionary[key]\n",
    "        return dictionary\n",
    "    except KeyError:\n",
    "        return None\n",
    "\n",
    "# Example usage\n",
    "nested_dict = {\"a\": {\"b\": {\"c\": 42}}}\n",
    "keys = [\"a\", \"b\", \"c\"]\n",
    "print(\"Value:\", get_nested_value(nested_dict, keys))\n"
   ]
  },
  {
   "cell_type": "code",
   "execution_count": 38,
   "metadata": {},
   "outputs": [
    {
     "name": "stdout",
     "output_type": "stream",
     "text": [
      "Ascending: {'b': 1, 'c': 2, 'a': 3}\n",
      "Descending: {'a': 3, 'c': 2, 'b': 1}\n"
     ]
    }
   ],
   "source": [
    "#34. Write a code that takes a dictionary as input and returns a sorted version of it based on the values. You can choose whether to sort in ascending or descending order.\n",
    "\n",
    "def sort_dict_by_values(dictionary, ascending=True):\n",
    "    return dict(sorted(dictionary.items(), key=lambda item: item[1], reverse=not ascending))\n",
    "\n",
    "# Example usage\n",
    "sample_dict = {\"a\": 3, \"b\": 1, \"c\": 2}\n",
    "print(\"Ascending:\", sort_dict_by_values(sample_dict, True))\n",
    "print(\"Descending:\", sort_dict_by_values(sample_dict, False))\n"
   ]
  },
  {
   "cell_type": "code",
   "execution_count": 39,
   "metadata": {},
   "outputs": [
    {
     "name": "stdout",
     "output_type": "stream",
     "text": [
      "Inverted Dictionary: {1: ['a', 'c'], 2: ['b']}\n"
     ]
    }
   ],
   "source": [
    "#35. Write a code that inverts a dictionary, swapping keys and values. Ensure that the inverted dictionary correctly handles cases where multiple keys have the same value by storing the keys as a list in the inverted dictionary.\n",
    "\n",
    "def invert_dictionary(dictionary):\n",
    "    inverted = {}\n",
    "    for key, value in dictionary.items():\n",
    "        if value in inverted:\n",
    "            inverted[value].append(key)\n",
    "        else:\n",
    "            inverted[value] = [key]\n",
    "    return inverted\n",
    "\n",
    "# Example usage\n",
    "sample_dict = {\"a\": 1, \"b\": 2, \"c\": 1}\n",
    "print(\"Inverted Dictionary:\", invert_dictionary(sample_dict))\n"
   ]
  },
  {
   "cell_type": "code",
   "execution_count": null,
   "metadata": {},
   "outputs": [],
   "source": []
  }
 ],
 "metadata": {
  "kernelspec": {
   "display_name": "Python 3",
   "language": "python",
   "name": "python3"
  },
  "language_info": {
   "codemirror_mode": {
    "name": "ipython",
    "version": 3
   },
   "file_extension": ".py",
   "mimetype": "text/x-python",
   "name": "python",
   "nbconvert_exporter": "python",
   "pygments_lexer": "ipython3",
   "version": "3.10.9"
  }
 },
 "nbformat": 4,
 "nbformat_minor": 2
}
